{
  "nbformat": 4,
  "nbformat_minor": 0,
  "metadata": {
    "colab": {
      "name": "findclothing.ipynb",
      "provenance": [],
      "authorship_tag": "ABX9TyN3D94poUPZpode36KG3sK0",
      "include_colab_link": true
    },
    "kernelspec": {
      "name": "python3",
      "display_name": "Python 3"
    }
  },
  "cells": [
    {
      "cell_type": "markdown",
      "metadata": {
        "id": "view-in-github",
        "colab_type": "text"
      },
      "source": [
        "<a href=\"https://colab.research.google.com/github/bmnidhin/tfnotes/blob/master/findclothing.ipynb\" target=\"_parent\"><img src=\"https://colab.research.google.com/assets/colab-badge.svg\" alt=\"Open In Colab\"/></a>"
      ]
    },
    {
      "cell_type": "markdown",
      "metadata": {
        "id": "VrkRG86lc1AD",
        "colab_type": "text"
      },
      "source": [
        "Computer Vision\n",
        "Fashion Dataset"
      ]
    },
    {
      "cell_type": "code",
      "metadata": {
        "id": "afqchMMCb0Z6",
        "colab_type": "code",
        "colab": {
          "base_uri": "https://localhost:8080/",
          "height": 35
        },
        "outputId": "c0eaa01f-9f5a-4f47-9885-669ec4e3bc9d"
      },
      "source": [
        "import tensorflow as tf\n",
        "print(tf.__version__)"
      ],
      "execution_count": 1,
      "outputs": [
        {
          "output_type": "stream",
          "text": [
            "2.2.0\n"
          ],
          "name": "stdout"
        }
      ]
    },
    {
      "cell_type": "markdown",
      "metadata": {
        "id": "fSNDgtCAdCxA",
        "colab_type": "text"
      },
      "source": [
        "\n",
        "0 T-shirt/top\n",
        "\n",
        "1 Trouser\n",
        "\n",
        "2 Pullover\n",
        "\n",
        "3 Dress\n",
        "\n",
        "4 Coat\n",
        "\n",
        "5 Sandal\n",
        "\n",
        "6 Shirt\n",
        "\n",
        "7 Sneaker\n",
        "\n",
        "8 Bag\n",
        "\n",
        "9 Ankle boot"
      ]
    },
    {
      "cell_type": "code",
      "metadata": {
        "id": "hFVycBqldVyX",
        "colab_type": "code",
        "colab": {}
      },
      "source": [
        "mnist = tf.keras.datasets.fashion_mnist"
      ],
      "execution_count": 2,
      "outputs": []
    },
    {
      "cell_type": "code",
      "metadata": {
        "id": "ymq69hEodkos",
        "colab_type": "code",
        "colab": {
          "base_uri": "https://localhost:8080/",
          "height": 164
        },
        "outputId": "3faeba53-9787-467e-eca1-fbf37ffc8d4f"
      },
      "source": [
        "(training_images, training_labels), (test_images, test_labels) = mnist.load_data()"
      ],
      "execution_count": 3,
      "outputs": [
        {
          "output_type": "stream",
          "text": [
            "Downloading data from https://storage.googleapis.com/tensorflow/tf-keras-datasets/train-labels-idx1-ubyte.gz\n",
            "32768/29515 [=================================] - 0s 0us/step\n",
            "Downloading data from https://storage.googleapis.com/tensorflow/tf-keras-datasets/train-images-idx3-ubyte.gz\n",
            "26427392/26421880 [==============================] - 0s 0us/step\n",
            "Downloading data from https://storage.googleapis.com/tensorflow/tf-keras-datasets/t10k-labels-idx1-ubyte.gz\n",
            "8192/5148 [===============================================] - 0s 0us/step\n",
            "Downloading data from https://storage.googleapis.com/tensorflow/tf-keras-datasets/t10k-images-idx3-ubyte.gz\n",
            "4423680/4422102 [==============================] - 0s 0us/step\n"
          ],
          "name": "stdout"
        }
      ]
    },
    {
      "cell_type": "markdown",
      "metadata": {
        "id": "1vBmS_Mudq95",
        "colab_type": "text"
      },
      "source": [
        "Experiment with labels"
      ]
    },
    {
      "cell_type": "code",
      "metadata": {
        "id": "KU5pG6WidufO",
        "colab_type": "code",
        "colab": {
          "base_uri": "https://localhost:8080/",
          "height": 1000
        },
        "outputId": "d49526ff-e434-4d37-83ed-db5a1fac7986"
      },
      "source": [
        "import matplotlib.pyplot as plt\n",
        "plt.imshow(training_images[5])\n",
        "\n",
        "print(\"this is the label\")\n",
        "print(training_labels[5])\n",
        "\n",
        "print(\"this is the image\")\n",
        "print(training_images[5])"
      ],
      "execution_count": 8,
      "outputs": [
        {
          "output_type": "stream",
          "text": [
            "this is the label\n",
            "2\n",
            "this is the image\n",
            "[[  0   0   0   0   1   0   0   0   0  22  88 188 172 132 125 141 199 143\n",
            "    9   0   0   0   1   0   0   0   0   0]\n",
            " [  0   0   0   1   0   0  20 131 199 206 196 202 242 255 255 250 222 197\n",
            "  206 188 126  17   0   0   0   0   0   0]\n",
            " [  0   0   0   1   0  35 214 191 183 178 175 168 150 162 159 152 158 179\n",
            "  183 189 195 185  82   0   0   0   0   0]\n",
            " [  0   0   0   0   0 170 190 172 177 176 171 169 162 155 148 154 169 174\n",
            "  175 175 177 183 188  12   0   0   0   0]\n",
            " [  0   0   0   0  25 194 180 178 174 184 187 189 187 184 181 189 200 197\n",
            "  193 190 178 175 194  90   0   0   0   0]\n",
            " [  0   0   0   0  42 218 191 197 208 204 211 209 210 212 211 214 215 213\n",
            "  214 211 211 191 200 158   0   0   0   0]\n",
            " [  0   0   0   0  88 221 215 217 219 211 185 150 118 107  99  88  83  90\n",
            "  135 212 203 207 219 169   0   0   0   0]\n",
            " [  0   0   0   0   0  27 118 162  40   0   0   0  10  19  28  39  47  36\n",
            "    0   0 203 230 220 203   0   0   0   0]\n",
            " [  0   0   0   0 138 136  71  69  54 216 217 203 184 168 163 162 163 178\n",
            "  221 186  38  26   7   0   0   0   0   0]\n",
            " [  0   0   0   0  67 134 154 224 129  66  81 117 129 128 132 137 131 129\n",
            "   86  73 157 151 134 216  18   0   0   0]\n",
            " [  0   0   0   0 203 198 172 183 206 255 255 250 243 240 239 235 238 244\n",
            "  255 238 184 160  86  98   0   0   0   0]\n",
            " [  0   0   0   0 122 188 224 151 105 127  97 100 105 114 117 117 113 103\n",
            "   98 111 142 254 191 255  49   0   0   0]\n",
            " [  0   0   0   0 163 179 200  95 154 198 197 200 200 198 197 198 199 202\n",
            "  200 176  86 206 157 162  10   0   0   0]\n",
            " [  0   0   0   0 197 201 229  71 144 194 181 183 179 182 180 179 180 190\n",
            "  185 197  76 219 185 201  34   0   0   0]\n",
            " [  0   0   0   0 199 193 226  58 154 192 184 187 184 186 184 185 183 192\n",
            "  191 200  56 219 203 207  60   0   0   0]\n",
            " [  0   0   0   0 201 194 224  41 163 190 186 186 184 185 183 185 178 190\n",
            "  194 202  33 211 200 206  73   0   0   0]\n",
            " [  0   0   0   0 201 197 222  17 172 190 186 187 182 186 185 187 180 187\n",
            "  193 202  26 212 202 203  76   0   0   0]\n",
            " [  0   0   0   0 200 197 223   0 177 189 184 185 178 184 183 184 180 183\n",
            "  189 203  35 196 203 203  84   0   0   0]\n",
            " [  0   0   0   0 200 197 223   0 185 187 185 187 180 184 182 183 178 182\n",
            "  183 205  44 159 207 201  85   0   0   0]\n",
            " [  0   0   0   0 187 198 225   0 194 188 184 185 180 183 183 184 181 181\n",
            "  177 206  46 129 211 200  88   0   0   0]\n",
            " [  0   0   0   6 186 200 211   0 199 189 184 184 185 182 183 184 185 182\n",
            "  175 205  50  97 216 197  93   0   0   0]\n",
            " [  0   0   0   5 185 204 184   0 202 188 182 182 183 183 184 182 180 182\n",
            "  174 202  63  59 220 196  94   0   0   0]\n",
            " [  0   0   0   5 184 206 157   0 204 187 187 189 192 190 190 191 190 187\n",
            "  183 202  78  35 222 197  95   0   0   0]\n",
            " [  0   0   0   5 183 208 127   0 197 166 153 149 149 146 148 149 150 151\n",
            "  158 191  90   8 223 195  99   0   0   0]\n",
            " [  0   0   0   6 184 208 114   0 204 173 161 180 176 172 173 173 174 176\n",
            "  162 202 115   0 229 199 105   0   0   0]\n",
            " [  0   0   0   9 178 204 115   0 121 135 114 117 114 114 117 118 119 117\n",
            "  113 147  63   0 225 196 107   0   0   0]\n",
            " [  0   0   0  18 180 206 131   0   0   0   0   0   0   0   0   0   0   0\n",
            "    0   0   0   0 224 197 123   0   0   0]\n",
            " [  0   0   0   0 141 151  76   0   1   1   0   0   0   0   0   0   0   0\n",
            "    0   0   0   0 133 167  73   0   0   0]]\n"
          ],
          "name": "stdout"
        },
        {
          "output_type": "display_data",
          "data": {
            "image/png": "[encoded data removed]",
            "text/plain": [
              "<Figure size 432x288 with 1 Axes>"
            ]
          },
          "metadata": {
            "tags": [],
            "needs_background": "light"
          }
        }
      ]
    },
    {
      "cell_type": "markdown",
      "metadata": {
        "id": "7E68mk-8e06D",
        "colab_type": "text"
      },
      "source": [
        "You'll notice that all of the values are integers between 0 and 255. When training a neural network, for various reasons it's easier to treat all values as between 0 and 1, a process called normalization. Fortunately, Python provides an easy way to normalize a list like this without looping:"
      ]
    },
    {
      "cell_type": "code",
      "metadata": {
        "id": "0j2HfjjDe966",
        "colab_type": "code",
        "colab": {}
      },
      "source": [
        "training_images  = training_images / 255.0\n",
        "test_images = test_images / 255.0"
      ],
      "execution_count": 9,
      "outputs": []
    },
    {
      "cell_type": "code",
      "metadata": {
        "id": "m5RPgh0ffOp3",
        "colab_type": "code",
        "colab": {
          "base_uri": "https://localhost:8080/",
          "height": 1000
        },
        "outputId": "6b925094-4a4a-46ea-9782-b6bb2e9cdbeb"
      },
      "source": [
        "import matplotlib.pyplot as plt\n",
        "plt.imshow(training_images[9])\n",
        "\n",
        "print(\"this is the label\")\n",
        "print(training_labels[9])\n",
        "\n",
        "print(\"this is the image\")\n",
        "print(training_images[9])"
      ],
      "execution_count": 11,
      "outputs": [
        {
          "output_type": "stream",
          "text": [
            "this is the label\n",
            "5\n",
            "this is the image\n",
            "[[0.         0.         0.         0.         0.         0.\n",
            "  0.         0.         0.         0.         0.         0.\n",
            "  0.         0.         0.         0.         0.         0.\n",
            "  0.         0.         0.         0.         0.         0.\n",
            "  0.         0.         0.         0.        ]\n",
            " [0.         0.         0.         0.         0.         0.\n",
            "  0.         0.         0.         0.         0.         0.\n",
            "  0.         0.         0.         0.         0.         0.\n",
            "  0.         0.         0.         0.         0.         0.\n",
            "  0.         0.         0.         0.        ]\n",
            " [0.         0.         0.         0.         0.         0.\n",
            "  0.         0.         0.         0.         0.         0.\n",
            "  0.         0.00392157 0.00392157 0.         0.         0.\n",
            "  0.         0.         0.         0.         0.64313725 0.19607843\n",
            "  0.         0.02745098 0.         0.        ]\n",
            " [0.         0.         0.         0.         0.         0.\n",
            "  0.         0.         0.00392157 0.         0.         0.00392157\n",
            "  0.         0.         0.00392157 0.00392157 0.         0.\n",
            "  0.01960784 0.         0.17647059 0.85098039 1.         0.69019608\n",
            "  0.         0.02352941 0.         0.        ]\n",
            " [0.         0.         0.         0.         0.         0.\n",
            "  0.         0.         0.         0.00392157 0.00392157 0.\n",
            "  0.01176471 0.01176471 0.01960784 0.03529412 0.         0.00784314\n",
            "  0.         0.24313725 0.9254902  0.90588235 0.84313725 0.10588235\n",
            "  0.         0.00392157 0.         0.        ]\n",
            " [0.         0.         0.         0.         0.         0.\n",
            "  0.         0.         0.         0.         0.         0.\n",
            "  0.         0.         0.         0.         0.         0.\n",
            "  0.11372549 0.95686275 0.90588235 0.91764706 0.29019608 0.\n",
            "  0.00392157 0.         0.         0.        ]\n",
            " [0.         0.         0.         0.         0.         0.\n",
            "  0.         0.         0.         0.00784314 0.         0.\n",
            "  0.         0.09019608 0.16078431 0.23137255 0.43529412 0.5254902\n",
            "  0.54117647 0.88627451 0.79215686 0.85098039 0.08627451 0.\n",
            "  0.00392157 0.         0.         0.        ]\n",
            " [0.         0.         0.         0.         0.         0.\n",
            "  0.         0.         0.         0.01960784 0.         0.1372549\n",
            "  0.70196078 0.76470588 0.71372549 0.88235294 0.77647059 0.94509804\n",
            "  0.69411765 0.78039216 0.80392157 0.82352941 0.10196078 0.\n",
            "  0.00392157 0.         0.         0.01176471]\n",
            " [0.         0.         0.         0.         0.         0.\n",
            "  0.         0.         0.         0.         0.         0.\n",
            "  0.0745098  0.         0.         0.         0.         0.\n",
            "  0.92156863 0.95294118 0.77647059 0.46666667 0.         0.01176471\n",
            "  0.00392157 0.01176471 0.01568627 0.        ]\n",
            " [0.         0.         0.         0.         0.         0.\n",
            "  0.         0.         0.         0.         0.         0.\n",
            "  0.         0.00784314 0.01960784 0.         0.         0.\n",
            "  0.66666667 0.98823529 0.70980392 0.71372549 0.         0.\n",
            "  0.         0.         0.         0.0745098 ]\n",
            " [0.         0.         0.         0.         0.         0.\n",
            "  0.         0.         0.         0.         0.         0.\n",
            "  0.00392157 0.00392157 0.         0.         0.01568627 0.\n",
            "  0.29803922 1.         0.71764706 0.85882353 0.03529412 0.\n",
            "  0.         0.16470588 0.74901961 0.64313725]\n",
            " [0.         0.         0.         0.         0.         0.\n",
            "  0.         0.         0.         0.         0.         0.\n",
            "  0.         0.         0.         0.         0.00784314 0.\n",
            "  0.         0.92941176 0.77647059 0.8        0.29411765 0.18431373\n",
            "  0.86666667 0.86666667 0.93333333 0.09803922]\n",
            " [0.         0.         0.         0.         0.         0.\n",
            "  0.         0.         0.         0.         0.         0.00392157\n",
            "  0.         0.         0.00392157 0.00784314 0.00392157 0.\n",
            "  0.         0.81960784 0.83137255 0.89803922 1.         0.99607843\n",
            "  0.90980392 0.89019608 0.68235294 0.        ]\n",
            " [0.         0.         0.         0.         0.         0.\n",
            "  0.         0.         0.         0.         0.         0.\n",
            "  0.         0.         0.00392157 0.         0.         0.\n",
            "  0.         0.         0.82352941 1.         0.34117647 0.39607843\n",
            "  0.90196078 0.93333333 0.41176471 0.        ]\n",
            " [0.         0.         0.         0.         0.         0.\n",
            "  0.         0.         0.         0.         0.         0.\n",
            "  0.         0.00392157 0.         0.01568627 0.00392157 0.\n",
            "  0.00392157 0.98039216 0.9254902  0.         0.         0.\n",
            "  0.87843137 0.91372549 0.07843137 0.        ]\n",
            " [0.         0.         0.         0.         0.         0.00392157\n",
            "  0.01176471 0.01568627 0.01568627 0.00784314 0.         0.\n",
            "  0.         0.00392157 0.         0.00784314 0.         0.\n",
            "  0.8        0.7254902  0.         0.         0.         0.02352941\n",
            "  0.89019608 0.79215686 0.         0.        ]\n",
            " [0.         0.00392157 0.         0.00392157 0.         0.\n",
            "  0.         0.         0.         0.         0.         0.\n",
            "  0.         0.00392157 0.         0.         0.         0.67843137\n",
            "  0.62352941 0.         0.         0.00784314 0.         0.03921569\n",
            "  0.92941176 0.6        0.         0.        ]\n",
            " [0.         0.         0.00392157 0.         0.         0.\n",
            "  0.         0.15686275 0.54117647 0.08235294 0.         0.\n",
            "  0.00784314 0.         0.03137255 0.         0.51764706 0.76470588\n",
            "  0.         0.         0.         0.         0.         0.03137255\n",
            "  0.94117647 0.4627451  0.         0.00392157]\n",
            " [0.01960784 0.02352941 0.01568627 0.         0.51764706 0.90980392\n",
            "  0.81568627 0.81568627 0.94509804 0.85098039 0.         0.\n",
            "  0.         0.00392157 0.         0.11372549 0.85098039 0.1372549\n",
            "  0.         0.03529412 0.         0.00784314 0.         0.09803922\n",
            "  0.93333333 0.22745098 0.         0.00784314]\n",
            " [0.         0.         0.         0.         0.70980392 1.\n",
            "  0.90588235 0.91372549 0.85882353 0.93333333 0.30196078 0.\n",
            "  0.         0.         0.         0.76862745 0.56862745 0.\n",
            "  0.         0.         0.         0.00784314 0.         0.19215686\n",
            "  0.89411765 0.         0.         0.00784314]\n",
            " [0.24313725 0.36078431 0.03137255 0.         0.81176471 1.\n",
            "  0.84705882 0.77647059 0.74117647 0.81568627 0.86666667 0.\n",
            "  0.         0.         0.69411765 0.9372549  0.0745098  0.\n",
            "  0.         0.         0.         0.00784314 0.         0.25098039\n",
            "  0.85490196 0.         0.         0.01176471]\n",
            " [0.37647059 0.97647059 0.8745098  0.82745098 0.92941176 0.95294118\n",
            "  0.82745098 0.89411765 1.         0.98823529 1.         0.54117647\n",
            "  0.14901961 0.68627451 0.94901961 0.67843137 0.         0.\n",
            "  0.         0.         0.         0.00784314 0.         0.34901961\n",
            "  0.8        0.         0.         0.00784314]\n",
            " [0.         0.77254902 0.94117647 0.94117647 0.92941176 0.85882353\n",
            "  0.87058824 0.95686275 0.92156863 0.95294118 0.95686275 1.\n",
            "  1.         0.91764706 0.91372549 0.17647059 0.         0.00784314\n",
            "  0.         0.         0.         0.00784314 0.         0.41176471\n",
            "  0.7372549  0.         0.         0.        ]\n",
            " [0.         0.64705882 0.99215686 0.87843137 0.89803922 0.94901961\n",
            "  0.95686275 0.90980392 0.9372549  0.94901961 0.95294118 0.92941176\n",
            "  0.90196078 0.90196078 0.81176471 0.         0.         0.00392157\n",
            "  0.         0.         0.         0.03529412 0.         0.47058824\n",
            "  0.64705882 0.         0.03137255 0.        ]\n",
            " [0.         0.17647059 1.         0.98823529 0.99215686 0.94509804\n",
            "  0.89803922 0.8745098  0.90196078 0.92156863 0.94117647 0.9372549\n",
            "  0.91372549 0.96078431 0.25490196 0.         0.00784314 0.\n",
            "  0.         0.         0.         0.03921569 0.         0.50196078\n",
            "  0.56078431 0.         0.03921569 0.        ]\n",
            " [0.         0.         0.         0.28235294 0.79215686 1.\n",
            "  1.         1.         1.         1.         1.         1.\n",
            "  1.         0.76078431 0.         0.         0.00784314 0.\n",
            "  0.         0.         0.         0.03137255 0.         0.72941176\n",
            "  0.62745098 0.         0.03529412 0.        ]\n",
            " [0.         0.         0.         0.         0.         0.\n",
            "  0.14901961 0.34901961 0.52941176 0.63529412 0.70588235 0.70196078\n",
            "  0.59607843 0.         0.         0.00392157 0.         0.\n",
            "  0.         0.         0.         0.00392157 0.         0.26666667\n",
            "  0.11372549 0.         0.01176471 0.        ]\n",
            " [0.         0.         0.         0.         0.         0.\n",
            "  0.         0.         0.         0.         0.         0.\n",
            "  0.         0.         0.         0.         0.         0.\n",
            "  0.         0.         0.         0.         0.         0.\n",
            "  0.         0.         0.         0.        ]]\n"
          ],
          "name": "stdout"
        },
        {
          "output_type": "display_data",
          "data": {
            "image/png": "[encoded data removed]",
            "text/plain": [
              "<Figure size 432x288 with 1 Axes>"
            ]
          },
          "metadata": {
            "tags": [],
            "needs_background": "light"
          }
        }
      ]
    },
    {
      "cell_type": "markdown",
      "metadata": {
        "id": "hqO8qRGXfuot",
        "colab_type": "text"
      },
      "source": [
        "# Training"
      ]
    },
    {
      "cell_type": "markdown",
      "metadata": {
        "id": "gNKReULjfyI6",
        "colab_type": "text"
      },
      "source": [
        "From first model (part 1)\n",
        "\n",
        "```\n",
        "model = tf.keras.Sequential([keras.layers.Dense(units=1, input_shape=[1])])\n",
        "```\n",
        "\n"
      ]
    },
    {
      "cell_type": "markdown",
      "metadata": {
        "id": "oRaolHLKgHg_",
        "colab_type": "text"
      },
      "source": [
        "Let's now design the model. If you went through Codelab 1, this will look familiar. But instead of one layer with one neuron, you'll have three layers. Let's go through these one-by-one and explore the different types of layer and the parameters used for each:"
      ]
    },
    {
      "cell_type": "code",
      "metadata": {
        "id": "zmf8Quh4f-AX",
        "colab_type": "code",
        "colab": {}
      },
      "source": [
        "model = tf.keras.models.Sequential([tf.keras.layers.Flatten(), \n",
        "                                    tf.keras.layers.Dense(128, activation=tf.nn.relu), \n",
        "                                    tf.keras.layers.Dense(10, activation=tf.nn.softmax)])"
      ],
      "execution_count": 14,
      "outputs": []
    },
    {
      "cell_type": "markdown",
      "metadata": {
        "id": "uAbmBVN2gXqH",
        "colab_type": "text"
      },
      "source": [
        "Sequential: This defines a SEQUENCE of layers in the neural network.\n",
        "\n",
        "Flatten: Remember earlier, our images were a square when they are printed out. Flatten just takes that square and turns it into a one-dimensional vector.\n",
        "\n",
        "Dense: Adds a layer of neurons.\n",
        "\n",
        "Each layer of neurons needs an activation function to tell them what to do. There are lots of options, but use these for now.\n",
        "\n",
        "Relu effectively means if X>0 return X, else return 0. It only passes values 0 or greater to the next layer in the network.\n",
        "\n",
        "Softmax takes a set of values, and effectively picks the biggest one. For example, if the output of the last layer looks like [0.1, 0.1, 0.05, 0.1, 9.5, 0.1, 0.05, 0.05, 0.05], it saves you from saving to sort for the largest value—it returns [0,0,0,0,1,0,0,0,0]."
      ]
    },
    {
      "cell_type": "markdown",
      "metadata": {
        "id": "y_Y7Xarsgx53",
        "colab_type": "text"
      },
      "source": [
        "# Compiling and Training the Model"
      ]
    },
    {
      "cell_type": "markdown",
      "metadata": {
        "id": "J3nLfTJ1g-f7",
        "colab_type": "text"
      },
      "source": [
        "Now that the model is defined, the next thing to do is build it. Create a model by first compiling it with an optimizer and loss function, then train it on your training data and labels. The goal is to have the model figure out the relationship between the training data and its training labels. Later, you want your model to see data that resembles your training data then make a prediction about what that data should look like.\n",
        "\n",
        "You'll notice we also use the `metrics=` parameter. This allows TensorFlow to report back about how accurate the training is against the test set. It measures how many it got right and wrong, and reports back on how it's doing."
      ]
    },
    {
      "cell_type": "code",
      "metadata": {
        "id": "QL_kmygJhCCY",
        "colab_type": "code",
        "colab": {}
      },
      "source": [
        "model.compile(optimizer = tf.keras.optimizers.Adam(),\n",
        "              loss = 'sparse_categorical_crossentropy',\n",
        "              metrics=['accuracy'])"
      ],
      "execution_count": 16,
      "outputs": []
    },
    {
      "cell_type": "markdown",
      "metadata": {
        "id": "FGNZKEkHhGEf",
        "colab_type": "text"
      },
      "source": [
        "\n",
        "\n",
        "```\n",
        "model.compile(optimizer = tf.train.AdamOptimizer(),\n",
        "              loss = 'sparse_categorical_crossentropy',\n",
        "              metrics=['accuracy'])\n",
        "```\n",
        "\n"
      ]
    },
    {
      "cell_type": "code",
      "metadata": {
        "id": "it09cz9WiBhJ",
        "colab_type": "code",
        "colab": {
          "base_uri": "https://localhost:8080/",
          "height": 219
        },
        "outputId": "ca5205cf-6660-45f5-c7dd-023305cc8743"
      },
      "source": [
        "model.fit(training_images, training_labels, epochs=5)"
      ],
      "execution_count": 17,
      "outputs": [
        {
          "output_type": "stream",
          "text": [
            "Epoch 1/5\n",
            "1875/1875 [==============================] - 4s 2ms/step - loss: 0.5038 - accuracy: 0.8221\n",
            "Epoch 2/5\n",
            "1875/1875 [==============================] - 4s 2ms/step - loss: 0.3723 - accuracy: 0.8655\n",
            "Epoch 3/5\n",
            "1875/1875 [==============================] - 4s 2ms/step - loss: 0.3363 - accuracy: 0.8783\n",
            "Epoch 4/5\n",
            "1875/1875 [==============================] - 4s 2ms/step - loss: 0.3162 - accuracy: 0.8842\n",
            "Epoch 5/5\n",
            "1875/1875 [==============================] - 3s 2ms/step - loss: 0.2984 - accuracy: 0.8889\n"
          ],
          "name": "stdout"
        },
        {
          "output_type": "execute_result",
          "data": {
            "text/plain": [
              "<tensorflow.python.keras.callbacks.History at 0x7f55752bf908>"
            ]
          },
          "metadata": {
            "tags": []
          },
          "execution_count": 17
        }
      ]
    },
    {
      "cell_type": "markdown",
      "metadata": {
        "id": "iOgvu0eCiTtE",
        "colab_type": "text"
      },
      "source": [
        "# Testing\n",
        "testing with data it hasn't seen"
      ]
    },
    {
      "cell_type": "code",
      "metadata": {
        "id": "1OPPrMvzibxf",
        "colab_type": "code",
        "colab": {
          "base_uri": "https://localhost:8080/",
          "height": 54
        },
        "outputId": "e3fd3173-5bce-4cd4-e0b4-978691de7b41"
      },
      "source": [
        "model.evaluate(test_images, test_labels)"
      ],
      "execution_count": 18,
      "outputs": [
        {
          "output_type": "stream",
          "text": [
            "313/313 [==============================] - 0s 1ms/step - loss: 0.3818 - accuracy: 0.8657\n"
          ],
          "name": "stdout"
        },
        {
          "output_type": "execute_result",
          "data": {
            "text/plain": [
              "[0.38178399205207825, 0.8657000064849854]"
            ]
          },
          "metadata": {
            "tags": []
          },
          "execution_count": 18
        }
      ]
    },
    {
      "cell_type": "markdown",
      "metadata": {
        "id": "GUfNhj4mixtW",
        "colab_type": "text"
      },
      "source": [
        "# Predict"
      ]
    },
    {
      "cell_type": "code",
      "metadata": {
        "id": "vlKp14fni0c8",
        "colab_type": "code",
        "colab": {
          "base_uri": "https://localhost:8080/",
          "height": 54
        },
        "outputId": "fa7b251e-7ab1-47b9-e0f4-33ccdfb52f20"
      },
      "source": [
        "classifications = model.predict(test_images)\n",
        "print(classifications[0])"
      ],
      "execution_count": 22,
      "outputs": [
        {
          "output_type": "stream",
          "text": [
            "[2.5274629e-05 8.9056712e-06 7.0250366e-07 7.7777159e-08 1.7964209e-06\n",
            " 1.6500529e-02 1.8471476e-06 3.4484915e-02 6.4384505e-05 9.4891161e-01]\n"
          ],
          "name": "stdout"
        }
      ]
    },
    {
      "cell_type": "markdown",
      "metadata": {
        "id": "7_nSpjBPjEW_",
        "colab_type": "text"
      },
      "source": [
        "The output of the model is a list of 10 numbers. These numbers are a probability that the value being classified is the corresponding label, i.e. the first value in the list is the probability that the clothing is of class '0', the next is a '1' etc. Notice that they are all VERY LOW probabilities except one. Also, because of Softmax, all the probabilities in this list sum to 1.0.\n",
        "\n",
        "Both the list and the labels are 0 based, so the ankle boot having label 9 means that it is the 10th of the 10 classes. The list having the 10th element being the highest value means that the neural network has predicted that the item it is classifying is most likely an ankle boot"
      ]
    }
  ]
}